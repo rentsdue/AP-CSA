#Exercise 1
#Grocery store
item1=input("Item 1:")
item2=input("Item 2:")
item3= input("Item 3:")

#Amount
item1amt=float(input("Amount of " + item1 + ":"))
item2amt=float(input("Amount of "+ item2 + ":"))
item3amt=float(input("Amount of "+ item3 + ":"))

#Per-Unit Prices
item1price=float(input("Per-Unit Price of "+ item1 + ":"))
item2price=float(input("Per-Unit Price of "+ item2 + ":"))
item3price=float(input("Per-Unit Price of "+ item3 + ":"))
total=item1price*item1amt+item2price*item2amt+item3price*item3amt

#Empty space
print()

#Display
print("Total money spent:", int(total))

#If statements
if total>100:
  print ("Why you spend so much lah? Go back to study lah!")
else:
  print ("Good job son! You don't waste yo muda money!")

#Exercise 2
#Grocery store
item1=input("Item 1:")
item2=input("Item 2:")
item3= input("Item 3:")

#Amount
item1amt=float(input("Amount of " + item1 + ":"))
item2amt=float(input("Amount of "+ item2 + ":"))
item3amt=float(input("Amount of "+ item3 + ":"))

#Per-Unit Prices
item1price=float(input("Per-Unit Price of "+ item1 + ":"))
item2price=float(input("Per-Unit Price of "+ item2 + ":"))
item3price=float(input("Per-Unit Price of "+ item3 + ":"))
total=item1price*item1amt+item2price*item2amt+item3price*item3amt

#Empty space
print()

#Display
print("Total money spent:", int(total))

#If statements
if total>100:
  print ("Why you spend so much lah? Go back to study lah!")
else:
  print ("Good job son! You don't waste yo muda money!")

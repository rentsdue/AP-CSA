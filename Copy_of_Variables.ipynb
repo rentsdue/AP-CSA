{
  "cells": [
    {
      "cell_type": "markdown",
      "metadata": {
        "id": "view-in-github",
        "colab_type": "text"
      },
      "source": [
        "<a href=\"https://colab.research.google.com/github/rentsdue/AP-CSA/blob/main/Copy_of_Variables.ipynb\" target=\"_parent\"><img src=\"https://colab.research.google.com/assets/colab-badge.svg\" alt=\"Open In Colab\"/></a>"
      ]
    },
    {
      "cell_type": "markdown",
      "metadata": {
        "id": "JiPTmgn93WM0"
      },
      "source": [
        "###Real-life analogy:\n",
        "\n",
        "\"Think of a locker in school or a gym. Each locker has a specific number, and inside, you can store your books, clothes, or other personal items. In programming, we have something similar called variables. Just like how you'd put your book in a locker and retrieve it later, in programming, we assign data to a variable and then use that variable to recall that data whenever we need it.\"\n",
        "\n",
        "### **Definition and Purpose of Variables in Programming**\n",
        "\n",
        "**Definition:**\n",
        "In computer programming, a variable is a storage location paired with an associated symbolic name, which contains some known or unknown quantity of information referred to as a value.\n",
        "\n",
        "**Purpose:**\n",
        "Variables serve as a fundamental concept in programming, allowing developers to:\n",
        "1. **Store Data:** Variables hold data that can be used and manipulated throughout a program.\n",
        "2. **Improve Readability:** By using descriptive variable names, code becomes more readable and understandable.\n",
        "3. **Facilitate Reuse:** Variables can be reused throughout different parts of a program, reducing redundancy.\n",
        "4. **Change Behavior:** By changing a variable's value, the behavior of a program can be altered without changing its structure.\n",
        "\n",
        "---\n",
        "\n",
        "### **Naming Conventions and Rules**\n",
        "\n",
        "**Naming Conventions:**\n",
        "1. **Descriptive Names:** Variables should be named in a way that describes their content or use (e.g., `user_age` instead of `ua`).\n",
        "2. **Camel Case:** Used mainly in languages like Java. E.g., `userName`.\n",
        "3. **Snake Case:** Common in Python. E.g., `user_name`.\n",
        "4. **Pascal Case:** Used for class names in many languages. E.g., `UserName`.\n",
        "\n",
        "**Rules:**\n",
        "1. Variable names must start with a letter (a-z, A-Z) or an underscore (_).\n",
        "2. Subsequent characters can be letters, numbers, or underscores.\n",
        "3. Variable names cannot be reserved words in the language (e.g., `if`, `else` in Python).\n",
        "4. Variable names should not contain spaces.\n",
        "5. Variable names are case-sensitive (`user` and `User` are different variables).\n",
        "\n",
        "---\n",
        "\n",
        "### **Assigning Values to Variables Using the Assignment Operator (=)**\n",
        "\n",
        "In most programming languages, the equals sign (`=`) is used as the assignment operator. It assigns the value on its right to the variable on its left.\n",
        "\n",
        "**Example:**\n",
        "```python\n",
        "age = 25\n",
        "name = \"John\"\n",
        "is_student = True\n",
        "```\n",
        "\n",
        "Here, the variable `age` is assigned a value of 25, the variable `name` is given the string \"John\", and the variable `is_student` is assigned a Boolean value of `True`.\n",
        "\n",
        "---\n",
        "\n",
        "### **Practice: Assign Various Values to Variables and Display Them**\n",
        "\n",
        "**Task:** Create and assign values to three different variables: an integer, a string, and a boolean. Then, display them.\n",
        "\n",
        "**Solution:**\n",
        "```python\n",
        "# Assigning values to variables\n",
        "my_age = 30\n",
        "my_name = \"Alice\"\n",
        "likes_coffee = True\n",
        "\n",
        "# Displaying the values\n",
        "print(\"My age is:\", my_age)\n",
        "print(\"My name is:\", my_name)\n",
        "print(\"Do I like coffee?\", likes_coffee)\n",
        "```\n",
        "\n",
        "When this program is run, it will display:\n",
        "```\n",
        "My age is: 30\n",
        "My name is: Alice\n",
        "Do I like coffee? True\n",
        "```\n",
        "\n",
        "---\n"
      ]
    },
    {
      "cell_type": "markdown",
      "metadata": {
        "id": "pBdwEexP57_C"
      },
      "source": [
        "# Exercise 1:\n",
        "\n",
        "Declare variables for today's temperature, humidity percentage, and chance of rain.\n",
        "\n",
        "Display a weather report: \"Today's temperature is [temperature]°C with a humidity of [humidity]%. Chance of rain: [chance of rain]%.\""
      ]
    },
    {
      "cell_type": "code",
      "execution_count": null,
      "metadata": {
        "colab": {
          "background_save": true,
          "base_uri": "https://localhost:8080/"
        },
        "id": "lSnQXtFM596U",
        "outputId": "05465c9b-6cf3-41c3-f580-ed0102f7f817"
      },
      "outputs": [
        {
          "name": "stdout",
          "output_type": "stream",
          "text": [
            "Good morning user! Please input the data for data temperature.\n"
          ]
        }
      ],
      "source": [
        "#Variables\n",
        "print(\"Good morning user! Please input the data for data temperature.\")\n",
        "temp=float(input(\"Today's temperature:\"))\n",
        "humidity=float(input(\"Today's humidity percentage:\"))\n",
        "rain_chance=float(input(\"Today's chance of rain:\"))\n",
        "\n",
        "#Report\n",
        "print(\"Today's temperature is\", temp, \"°C\", \"with a humidity of\", humidity, \"%.\", \"Chance of rain:\", rain_chance, \"%.\")"
      ]
    },
    {
      "cell_type": "markdown",
      "metadata": {
        "id": "j3nER9kQ6QAL"
      },
      "source": [
        "# Exercise 2:\n",
        "\n",
        "Grocery Receipt:\n",
        "\n",
        "Pick three items you would buy from a grocery store.\n",
        "Declare variables for each item's name and price.\n",
        "\n",
        "Calculate and display the total bill."
      ]
    },
    {
      "cell_type": "code",
      "execution_count": null,
      "metadata": {
        "id": "7JSsAYKbsInP"
      },
      "outputs": [],
      "source": [
        "#Grocery store\n",
        "item1=input(\"Item 1:\")\n",
        "item2=input(\"Item 2:\")\n",
        "item3= input(\"Item 3:\")\n",
        "\n",
        "#Amount\n",
        "item1amt=float(input(\"Amount of \" + item1 + \":\"))\n",
        "item2amt=float(input(\"Amount of \"+ item2 + \":\"))\n",
        "item3amt=float(input(\"Amount of \"+ item3 + \":\"))\n",
        "\n",
        "#Per-Unit Prices\n",
        "item1price=float(input(\"Per-Unit Price of \"+ item1 + \":\"))\n",
        "item2price=float(input(\"Per-Unit Price of \"+ item2 + \":\"))\n",
        "item3price=float(input(\"Per-Unit Price of \"+ item3 + \":\"))\n",
        "total=item1price*item1amt+item2price*item2amt+item3price*item3amt\n",
        "\n",
        "#Empty space\n",
        "print()\n",
        "\n",
        "#Display\n",
        "print(\"Total money spent:\", int(total))\n",
        "\n",
        "#If statements\n",
        "if total>100:\n",
        "  print (\"Why you spend so much lah? Go back to study lah!\")\n",
        "else:\n",
        "  print (\"Good job son! You don't waste yo muda money!\")\n"
      ]
    }
  ],
  "metadata": {
    "colab": {
      "provenance": [],
      "include_colab_link": true
    },
    "kernelspec": {
      "display_name": "Python 3",
      "name": "python3"
    },
    "language_info": {
      "name": "python"
    }
  },
  "nbformat": 4,
  "nbformat_minor": 0
}
{
  "nbformat": 4,
  "nbformat_minor": 0,
  "metadata": {
    "colab": {
      "provenance": [],
      "include_colab_link": true
    },
    "kernelspec": {
      "name": "python3",
      "display_name": "Python 3"
    },
    "language_info": {
      "name": "python"
    }
  },
  "cells": [
    {
      "cell_type": "markdown",
      "metadata": {
        "id": "view-in-github",
        "colab_type": "text"
      },
      "source": [
        "<a href=\"https://colab.research.google.com/github/rentsdue/AP-CSA/blob/main/Copy_of_Data_Types.ipynb\" target=\"_parent\"><img src=\"https://colab.research.google.com/assets/colab-badge.svg\" alt=\"Open In Colab\"/></a>"
      ]
    },
    {
      "cell_type": "markdown",
      "source": [
        "\n",
        "### **Data Types Introduction**\n",
        "\n",
        "- **What are Data Types?**\n",
        "    - In computer science, a data type is a classification that specifies which type of value a variable can hold. Think of it as a label for the kind of data (e.g., numbers, texts, true/false values) we're dealing with.\n",
        "    - For instance, if we label something as a 'text' type, it means the variable will hold textual information like names, addresses, etc.\n",
        "\n",
        "#### **Why Do We Need Different Data Types?**\n",
        "1. **Efficiency:** Different data types use different amounts of memory. By choosing the right data type, we ensure our programs run efficiently.\n",
        "2. **Precision:** Some tasks require precision. For instance, financial calculations might need decimal values instead of whole numbers.\n",
        "3. **Clarity:** Using the right data type makes the code more readable and understandable.\n",
        "4. **Error Prevention:** Certain operations are only valid for specific data types. Having the right type can prevent errors. For example, you wouldn't want to accidentally add someone's name to their age.\n",
        "\n",
        "---\n",
        "\n",
        "### **Integers and Floats**\n",
        "\n",
        "#### **Definition and Examples of Integers and Floats**\n",
        "- **Integers:**\n",
        "    - These are whole numbers that can be positive, negative, or zero. They do not have decimal points.\n",
        "    - Examples: -3, -2, -1, 0, 1, 2, 3, ...\n",
        "- **Floats:**\n",
        "    - Also known as floating-point numbers, these are numbers that have a decimal point.\n",
        "    - They can represent real numbers (both rational and irrational numbers).\n",
        "    - Examples: -3.5, 0.0, 2.71, 3.14, ...\n",
        "\n",
        "#### **The Difference Between the Two**\n",
        "1. **Representation:** Integers are whole numbers without a decimal point, while floats have a decimal point.\n",
        "2. **Memory:** Floats typically require more memory than integers due to the precision they carry.\n",
        "3. **Operations:** Some operations might yield different results. For instance, dividing two integers might truncate the result, whereas dividing two floats will retain the decimal portion.\n",
        "\n",
        "#### **Practice: Create Variables of Integer and Float Types and Perform Basic Arithmetic Operations**\n",
        "1. **Creating Variables:**\n",
        "```python\n",
        "int_variable = 5\n",
        "float_variable = 5.5\n",
        "```\n",
        "2. **Arithmetic Operations:**\n",
        "    - **Addition:** `int_variable + 3` will result in `8`, but `float_variable + 3` will result in `8.5`.\n",
        "    - **Division:** `int_variable / 2` might differ in some languages in its result compared to `float_variable / 2`. In Python 3, both will return a float, but in some languages, integer division truncates the result.\n",
        "    - **Multiplication:** `int_variable * 2` will result in `10`, and `float_variable * 2` will result in `11.0`.\n",
        "\n",
        "3. **Experimentation:** Create your own integer and float variables and experiment with various arithmetic operations to observe the outcomes.\n",
        "\n",
        "---\n"
      ],
      "metadata": {
        "id": "LBu00G47APLR"
      }
    },
    {
      "cell_type": "code",
      "source": [
        "#Experiment with integers and floats in this cell\n",
        "int_variable=5\n",
        "float_variable=5.0\n",
        "total=int_variable+float_variable\n",
        "print(total)\n",
        "\n"
      ],
      "metadata": {
        "id": "LCcqz0c-EMxq",
        "outputId": "2d93f905-8615-4b81-c71d-caebcbcf5cbc",
        "colab": {
          "base_uri": "https://localhost:8080/"
        }
      },
      "execution_count": null,
      "outputs": [
        {
          "output_type": "stream",
          "name": "stdout",
          "text": [
            "10.0\n"
          ]
        }
      ]
    },
    {
      "cell_type": "markdown",
      "source": [
        "**1. Coffee Shop Calculator**\n",
        "   \n",
        "**Objective:** Calculate the total cost of items ordered at a coffee shop.\n",
        "\n",
        "- **Instructions:**\n",
        "   - Imagine you're visiting your favorite coffee shop.\n",
        "   - Use the `input()` function to ask the user to specify the number of espressos, lattes, and muffins they'd like to \"buy\". Convert these to integer values.\n",
        "   - Similarly, take user input for the prices of each item and convert these to float values.\n",
        "   - Write a program to calculate and display the total cost.\n",
        "\n",
        "---"
      ],
      "metadata": {
        "id": "bBnOPo9OEAEW"
      }
    },
    {
      "cell_type": "code",
      "source": [
        "#Variables\n",
        "espressos=int(input(\"Number of espressos: \"))\n",
        "lattes=int(input(\"Number of lattes: \"))\n",
        "muffins=int(input(\"Number of muffins: \"))\n",
        "ep=float(input(\"Espresso price: \"))\n",
        "lp=float(input(\"Latte price: \"))\n",
        "mp=float(input(\"Muffin price: \"))\n",
        "total=espressos*ep+lattes*lp+muffins*mp\n",
        "\n",
        "#Total price:\n",
        "print()\n",
        "print(total)\n"
      ],
      "metadata": {
        "id": "ymdlxypHEeHA",
        "colab": {
          "base_uri": "https://localhost:8080/"
        },
        "outputId": "ff4e6b6e-38d5-4e63-964c-b80e2e5295cb"
      },
      "execution_count": null,
      "outputs": [
        {
          "output_type": "stream",
          "name": "stdout",
          "text": [
            "Number of espressos: 12\n",
            "Number of lattes: 33\n",
            "Number of muffins: 44\n",
            "Espresso price: 1.3\n",
            "Latte price: 2.4\n",
            "Muffin price: 5.5\n",
            "\n",
            "336.8\n"
          ]
        }
      ]
    },
    {
      "cell_type": "markdown",
      "source": [
        "**2. Rocket Launch Countdown**\n",
        "   \n",
        "**Objective:** Simulate a rocket launch countdown.\n",
        "\n",
        "- **Instructions:**\n",
        "   - Use the `input()` function to ask the user for a starting countdown number and convert it to an integer.\n",
        "   - Write a loop that subtracts 1 from the variable and prints the current countdown number each iteration.\n",
        "   - Add a delay (using time.sleep in Python) of 0.5 seconds between each countdown number.\n",
        "\n",
        "---\n"
      ],
      "metadata": {
        "id": "5cn16bvxEiz5"
      }
    },
    {
      "cell_type": "code",
      "source": [
        "#Your code for exercise 2 in here\n",
        "import time\n",
        "starting_no=int(input(\"Starting countdown number: \"))\n",
        "while starting_no>0:\n",
        "  print(starting_no)\n",
        "  starting_no -=1\n",
        "  time.sleep(1)\n",
        "if starting_no==0:\n",
        "  print (\"Liftoff!\")\n",
        "\n"
      ],
      "metadata": {
        "id": "ys1WJFJWEncP",
        "colab": {
          "base_uri": "https://localhost:8080/"
        },
        "outputId": "68ad5dab-843b-49cf-c083-0d30f10f9568"
      },
      "execution_count": null,
      "outputs": [
        {
          "output_type": "stream",
          "name": "stdout",
          "text": [
            "Starting countdown number: 10\n",
            "10\n",
            "9\n",
            "8\n",
            "7\n",
            "6\n",
            "5\n",
            "4\n",
            "3\n",
            "2\n",
            "1\n",
            "Liftoff!\n"
          ]
        }
      ]
    },
    {
      "cell_type": "markdown",
      "source": [
        "**3. Your Weight on Other Planets**\n",
        "   \n",
        "**Objective:** Find out how much you'd weigh on different planets based on their gravity.\n",
        "\n",
        "- **Instructions:**\n",
        "   - Use the `input()` function to ask the user for their weight on Earth and convert this to a float.\n",
        "   - Create float variables for the gravity factor of different planets (e.g., Mars is about 0.38 of Earth's gravity).\n",
        "   - Calculate and display how much they'd weigh on each of these planets.\n",
        "\n",
        "---"
      ],
      "metadata": {
        "id": "_4CLsHIKEsGa"
      }
    },
    {
      "cell_type": "code",
      "source": [
        "#Basics\n",
        "mass=float(input(\"Mass: \"))\n",
        "g_e=9.8\n",
        "\n",
        "#Relative gravity\n",
        "g_me=0.38*g_e\n",
        "g_v=0.9*g_e\n",
        "g_ma=0.38*g_e\n",
        "g_j=2.53*g_e\n",
        "\n",
        "#Weights\n",
        "weight_e=mass*g_e\n",
        "weight_me=mass*g_me\n",
        "weight_v=mass*g_v\n",
        "weight_ma=mass*g_ma\n",
        "weight_j=mass*g_j\n",
        "\n",
        "#Final results\n",
        "print(\"Earth:\", weight_e, \"Newtons\")\n",
        "print(\"Mercury\", weight_me, \"Newtons\")\n",
        "print(\"Venus\", weight_v, \"Newtons\")\n",
        "print(\"Mars\", weight_ma, \"Newtons\")\n",
        "print(\"Jupiter\", weight_j, \"Newtons\")"
      ],
      "metadata": {
        "id": "2CGVY3iiEvR9",
        "colab": {
          "base_uri": "https://localhost:8080/"
        },
        "outputId": "e240c2a5-f368-45bb-a952-0e40c62ede63"
      },
      "execution_count": null,
      "outputs": [
        {
          "output_type": "stream",
          "name": "stdout",
          "text": [
            "Mass: 123\n",
            "Earth: 1205.4 Newtons\n",
            "Mercury 458.052 Newtons\n",
            "Venus 1084.8600000000001 Newtons\n",
            "Mars 458.052 Newtons\n",
            "Jupiter 3049.6620000000003 Newtons\n"
          ]
        }
      ]
    },
    {
      "cell_type": "markdown",
      "source": [
        "**4. Pizza Party Calculator**\n",
        "   \n",
        "**Objective:** Calculate the cost per slice of pizza.\n",
        "\n",
        "- **Instructions:**\n",
        "   - Use the `input()` function to ask the user how many pizzas they bought and the total cost. Convert these values appropriately (integer for number of pizzas, float for cost).\n",
        "   - Ask the user to specify how many slices each pizza has and convert this to an integer.\n",
        "   - Calculate and display the cost per slice.\n",
        "\n",
        "---"
      ],
      "metadata": {
        "id": "iSGrrgiNExxp"
      }
    },
    {
      "cell_type": "code",
      "source": [
        "#User input\n",
        "bought=int(input(\"Number of pizzas bought: \"))\n",
        "cost=float(input(\"Total cost of pizza: \"))\n",
        "slices=int(input(\"Number of slices each pizza has: \"))\n",
        "puc=cost/(bought*slices)\n",
        "\n",
        "print(puc)"
      ],
      "metadata": {
        "id": "QFiXisVwE0ZR",
        "colab": {
          "base_uri": "https://localhost:8080/"
        },
        "outputId": "a35fe381-1a9a-4fe1-b02b-a70e74118cc8"
      },
      "execution_count": null,
      "outputs": [
        {
          "output_type": "stream",
          "name": "stdout",
          "text": [
            "Number of pizzas bought: 22\n",
            "Total cost of pizza: 33\n",
            "Number of slices each pizza has: 44\n",
            "0.03409090909090909\n"
          ]
        }
      ]
    },
    {
      "cell_type": "markdown",
      "source": [
        "\n",
        "**5. Travel Budget Calculator**\n",
        "   \n",
        "**Objective:** Calculate the total budget required for a trip.\n",
        "\n",
        "- **Instructions:**\n",
        "   - Imagine you're planning a trip to your dream destination.\n",
        "   - Use the `input()` function to ask the user for the number of days they plan to stay and convert this to an integer.\n",
        "   - Ask the user to specify the estimated daily expenses for food, accommodation, and sightseeing. Convert these to float values.\n",
        "   - Write a program to calculate and display the total estimated cost for the trip.\n",
        "\n",
        "---"
      ],
      "metadata": {
        "id": "bgTECsKHE3CF"
      }
    },
    {
      "cell_type": "code",
      "source": [
        "days=int(input(\"Number of days: \"))\n",
        "food=float(input(\"Estimated daily expenses for food: \"))\n",
        "accommodation=float(input(\"Estimated daily expenses for accommodation: \"))\n",
        "sightseeing=float(input(\"Estimated daily expenses for sightseeing: \"))\n",
        "total_cost=days*(food+accommodation+sightseeing)\n",
        "\n",
        "print(total_cost)"
      ],
      "metadata": {
        "id": "sT4Q-aYuE4jM",
        "colab": {
          "base_uri": "https://localhost:8080/"
        },
        "outputId": "22008cb7-33be-4772-ee49-a3895ce342ce"
      },
      "execution_count": null,
      "outputs": [
        {
          "output_type": "stream",
          "name": "stdout",
          "text": [
            "Number of days: 7\n",
            "Estimated daily expenses for food: 500\n",
            "Estimated daily expenses for accommodation: 33\n",
            "Estimated daily expenses for sightseeing: 444\n",
            "6839.0\n"
          ]
        }
      ]
    }
  ]
}
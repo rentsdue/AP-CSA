{
  "nbformat": 4,
  "nbformat_minor": 0,
  "metadata": {
    "colab": {
      "provenance": [],
      "include_colab_link": true
    },
    "kernelspec": {
      "name": "python3",
      "display_name": "Python 3"
    },
    "language_info": {
      "name": "python"
    }
  },
  "cells": [
    {
      "cell_type": "markdown",
      "metadata": {
        "id": "view-in-github",
        "colab_type": "text"
      },
      "source": [
        "<a href=\"https://colab.research.google.com/github/rentsdue/AP-CSA/blob/main/Copy_of_for_loops.ipynb\" target=\"_parent\"><img src=\"https://colab.research.google.com/assets/colab-badge.svg\" alt=\"Open In Colab\"/></a>"
      ]
    },
    {
      "cell_type": "markdown",
      "source": [
        "### **Introduction to `for` Loops**\n",
        "\n",
        "In programming, a `for` loop provides a clean and concise way to iterate over a sequence of items. It's one of the most commonly used loops due to its simplicity and versatility in handling structured data types.\n",
        "\n",
        "---\n",
        "\n",
        "### **Iterating Over Ranges**\n",
        "\n",
        "The `range()` function generates a sequence of numbers, which can be used in a `for` loop to repeat an action a specific number of times.\n",
        "\n",
        "**Basic Syntax:**\n",
        "```python\n",
        "for variable in range(start, stop, step):\n",
        "    # body of the loop\n",
        "```\n",
        "\n",
        "- `start`: The beginning value (optional, default is 0).\n",
        "- `stop`: The end value (exclusive).\n",
        "- `step`: The increment/decrement value (optional, default is 1).\n",
        "\n",
        "**Example 1:** Counting from 0 to 4\n",
        "```python\n",
        "for i in range(5):\n",
        "    print(i)\n",
        "```\n",
        "\n",
        "**Example 2:** Counting from 2 to 8 in steps of 2\n",
        "```python\n",
        "for i in range(2, 9, 2):\n",
        "    print(i)\n",
        "```\n",
        "\n",
        "---\n",
        "\n",
        "### **Iterating Over Lists**\n",
        "\n",
        "A `for` loop can directly iterate over items in a list without needing to reference indices.\n",
        "\n",
        "**Basic Syntax:**\n",
        "```python\n",
        "for item in list_name:\n",
        "    # body of the loop\n",
        "```\n",
        "\n",
        "**Example:** Printing all items in a list\n",
        "```python\n",
        "fruits = [\"apple\", \"banana\", \"cherry\"]\n",
        "for fruit in fruits:\n",
        "    print(fruit)\n",
        "```\n",
        "\n",
        "**Note:** The `for` loop can also iterate over other iterable data types like tuples, sets, strings, and dictionaries.\n",
        "\n",
        "---\n",
        "\n"
      ],
      "metadata": {
        "id": "jPs46T6tIdCB"
      }
    },
    {
      "cell_type": "code",
      "source": [
        "#String to list user input\n",
        "list=input(\"Input a list: \")\n",
        "word_list=list.split()\n",
        "print(word_list)\n",
        "\n",
        "#Int/float to list user input\n",
        "number_list=input(\"Input a list of numbers: \")\n",
        "string_list=number_list.split()\n",
        "float_list=[int(item) if item.isdigit() else float(item) for item in string_list]\n",
        "print(float_list)"
      ],
      "metadata": {
        "id": "vTqc3r88JzoK",
        "colab": {
          "base_uri": "https://localhost:8080/"
        },
        "outputId": "4d378e36-3c73-4feb-90c0-783a1ff86c92"
      },
      "execution_count": 32,
      "outputs": [
        {
          "output_type": "stream",
          "name": "stdout",
          "text": [
            "Input a list: Printing all items in a list\n",
            "['Printing', 'all', 'items', 'in', 'a', 'list']\n",
            "Input a list of numbers: 1 2 3 4 5 7.5\n",
            "[1, 2, 3, 4, 5, 7.5]\n"
          ]
        }
      ]
    },
    {
      "cell_type": "markdown",
      "source": [
        "\n",
        "### **Practice Exercises:**\n",
        "\n",
        "1. **Number Doubler:** For numbers 1 through 10, print each number doubled.\n",
        "\n"
      ],
      "metadata": {
        "id": "5X8znl34J3A2"
      }
    },
    {
      "cell_type": "code",
      "source": [
        "for i in range (1, 11):\n",
        "  print(i*2)"
      ],
      "metadata": {
        "id": "UwcBDItUJsyv",
        "colab": {
          "base_uri": "https://localhost:8080/"
        },
        "outputId": "907a9334-d01b-4644-cff6-3e7c671cc5e0"
      },
      "execution_count": null,
      "outputs": [
        {
          "output_type": "stream",
          "name": "stdout",
          "text": [
            "2\n",
            "4\n",
            "6\n",
            "8\n",
            "10\n",
            "12\n",
            "14\n",
            "16\n",
            "18\n",
            "20\n"
          ]
        }
      ]
    },
    {
      "cell_type": "markdown",
      "source": [
        "2. **Vowel Finder:** Given a word, iterate over it and print only the vowels.\n"
      ],
      "metadata": {
        "id": "an5RrtO3J617"
      }
    },
    {
      "cell_type": "code",
      "source": [
        "#Ex2\n",
        "x=input(\"Input a word: \")\n",
        "y=\"aeiouAEIOU\"\n",
        "for i in x:\n",
        "  if i in y:\n",
        "    print(i)"
      ],
      "metadata": {
        "id": "LefNxEbXJ8Zw",
        "colab": {
          "base_uri": "https://localhost:8080/"
        },
        "outputId": "104bded7-46b7-4e79-81c4-05f9624d333c"
      },
      "execution_count": null,
      "outputs": [
        {
          "output_type": "stream",
          "name": "stdout",
          "text": [
            "Input a word: Clashroyale\n",
            "a\n",
            "o\n",
            "a\n",
            "e\n"
          ]
        }
      ]
    },
    {
      "cell_type": "markdown",
      "source": [
        "3. **List Reverser:** Without using built-in functions, reverse the items in a list.\n"
      ],
      "metadata": {
        "id": "SWs102V4J9u-"
      }
    },
    {
      "cell_type": "code",
      "source": [
        "stuff=input(\"Create a list full of items! Remember to separate the items with a comma in order for the code to work! \")\n",
        "list1=stuff.split(',')\n",
        "for i in range(int(len(list1))-1, -1, -1):\n",
        "  print(list1[i])"
      ],
      "metadata": {
        "id": "ev_24-pQJ_eN",
        "colab": {
          "base_uri": "https://localhost:8080/"
        },
        "outputId": "c189af09-fdab-4e23-d6ab-795ebe552331"
      },
      "execution_count": 2,
      "outputs": [
        {
          "output_type": "stream",
          "name": "stdout",
          "text": [
            "Create a list full of items! Remember to separate the items with a comma in order for the code to work! Without, using, built, in, functions, reverse, the, items, in, a list\n",
            " a list\n",
            " in\n",
            " items\n",
            " the\n",
            " reverse\n",
            " functions\n",
            " in\n",
            " built\n",
            " using\n",
            "Without\n"
          ]
        }
      ]
    },
    {
      "cell_type": "markdown",
      "source": [
        "4. **Odd Number Counter:** Given a list of numbers, count how many odd numbers there are.\n"
      ],
      "metadata": {
        "id": "nzzOUhNiKAqP"
      }
    },
    {
      "cell_type": "code",
      "source": [
        "count=0\n",
        "compile=input(\"Input a list of integers. Remember to split each integer with a comma! \")\n",
        "input_list=compile.split(',')\n",
        "num_list=[int(item) for item in input_list]\n",
        "for i in num_list:\n",
        "  if i%2 !=0:\n",
        "    count +=1\n",
        "print (count)"
      ],
      "metadata": {
        "id": "VMYhMku7KB8S",
        "colab": {
          "base_uri": "https://localhost:8080/"
        },
        "outputId": "15f7a9e7-4b3d-40b0-a07a-4753e7b1c1a5"
      },
      "execution_count": 3,
      "outputs": [
        {
          "output_type": "stream",
          "name": "stdout",
          "text": [
            "Input a list of integers. Remember to split each integer with a comma! 1, 3, 5, 7, 9, 11, 12\n",
            "6\n"
          ]
        }
      ]
    },
    {
      "cell_type": "markdown",
      "source": [
        "5. **Grade Assigner:** For a list of scores, assign and print grades (e.g., A, B, C).\n"
      ],
      "metadata": {
        "id": "lMx0qR57KDI4"
      }
    },
    {
      "cell_type": "code",
      "source": [
        "scores=input(\"Input a list of scores. Remember to separate each score by a comma. \")\n",
        "listscores=scores.split(',')\n",
        "float_list=[float(item) for item in listscores]\n",
        "for i in float_list:\n",
        "  if 98<=i<=100:\n",
        "    print(\"A+\")\n",
        "  elif 94<=i<98:\n",
        "    print(\"A\")\n",
        "  elif 90<=i<94:\n",
        "    print(\"A-\")\n",
        "  elif 86<=i<90:\n",
        "    print(\"B+\")\n",
        "  elif 83<=i<86:\n",
        "    print(\"B\")\n",
        "  elif 80<=i<83:\n",
        "    print(\"B-\")\n",
        "  elif 76<=i<80:\n",
        "    print(\"C+\")\n",
        "  elif 73<=i<76:\n",
        "    print(\"C\")\n",
        "  elif 70<=i<73:\n",
        "    print(\"C-\")\n",
        "  elif 60<=i<70:\n",
        "    print(\"D\")\n",
        "  elif 0<=i<60:\n",
        "    print(\"F\")"
      ],
      "metadata": {
        "id": "9UhJ6-F6KFDN",
        "colab": {
          "base_uri": "https://localhost:8080/"
        },
        "outputId": "2fb22f24-c490-4801-9770-12b797aae718"
      },
      "execution_count": 9,
      "outputs": [
        {
          "output_type": "stream",
          "name": "stdout",
          "text": [
            "Input a list of scores. Remember to separate each score by a comma. 100, 98, 97.5, 66, 64.5, 0, 55.5, 73.22, 88.88, 83, 69.420, 93, 95.5, 65.5\n",
            "A+\n",
            "A+\n",
            "A\n",
            "D\n",
            "D\n",
            "F\n",
            "F\n",
            "C\n",
            "B+\n",
            "B\n",
            "D\n",
            "A-\n",
            "A\n",
            "D\n"
          ]
        }
      ]
    },
    {
      "cell_type": "markdown",
      "source": [
        "6. **Word Lengths:** For a list of words, print each word alongside its length.\n"
      ],
      "metadata": {
        "id": "a-5VcK9GKGMi"
      }
    },
    {
      "cell_type": "code",
      "source": [
        "user_input=input(\"Give me a list of words! Remember to add a space or comma between separate words. \")\n",
        "word_list=user_input.split()\n",
        "for word in word_list:\n",
        "  print(word, len(word))"
      ],
      "metadata": {
        "id": "WJ2YmGMZKT68",
        "colab": {
          "base_uri": "https://localhost:8080/"
        },
        "outputId": "01dcc13c-c90b-4d76-ada0-77f7d411983e"
      },
      "execution_count": 1,
      "outputs": [
        {
          "output_type": "stream",
          "name": "stdout",
          "text": [
            "Give me a list of words! Remember to add a space or comma between separate words. For a list of words, print each word alongside its length.\n",
            "For 3\n",
            "a 1\n",
            "list 4\n",
            "of 2\n",
            "words, 6\n",
            "print 5\n",
            "each 4\n",
            "word 4\n",
            "alongside 9\n",
            "its 3\n",
            "length. 7\n"
          ]
        }
      ]
    },
    {
      "cell_type": "markdown",
      "source": [
        "7. **Positive Number Finder:** Given a list of numbers, print only the positive ones.\n"
      ],
      "metadata": {
        "id": "G7NqPlM_KflV"
      }
    },
    {
      "cell_type": "code",
      "source": [
        "n=input(\"Give me a list of numbers! Put a space between each separate number. \")\n",
        "list=n.split()\n",
        "numbers=[int(item) if item.isdigit() else float(item) for item in list]\n",
        "for i in numbers:\n",
        "  if i>0:\n",
        "    print(i)"
      ],
      "metadata": {
        "colab": {
          "base_uri": "https://localhost:8080/"
        },
        "id": "4kezItTgnUxc",
        "outputId": "d84a0fb3-c727-4ca0-8c6b-42dc772c0206"
      },
      "execution_count": 2,
      "outputs": [
        {
          "output_type": "stream",
          "name": "stdout",
          "text": [
            "Give me a list of numbers! Put a space between each separate number. 1 2 3 55 99 -122222 434 5555 909.88 -77.55\n",
            "1\n",
            "2\n",
            "3\n",
            "55\n",
            "99\n",
            "434\n",
            "5555\n",
            "909.88\n"
          ]
        }
      ]
    },
    {
      "cell_type": "markdown",
      "source": [
        "8. **Temperature Converter:** Convert a list of temperatures from Celsius to Fahrenheit and print them.\n"
      ],
      "metadata": {
        "id": "Am8UDtkgKhwu"
      }
    },
    {
      "cell_type": "code",
      "source": [
        "celsius=input(\"Input a list of temperatures in degrees Celsius! Reminder to separate each temperature with a comma. \")\n",
        "list=celsius.split(',')\n",
        "celsius_list=[int(item) if item.isdigit() else float(item) for item in list]\n",
        "for i in celsius_list:\n",
        "  print(i*9/5+32)"
      ],
      "metadata": {
        "id": "nXjgFlTeKi3h",
        "colab": {
          "base_uri": "https://localhost:8080/"
        },
        "outputId": "1a3aed86-b4f5-48a2-c6a1-b76311d580ae"
      },
      "execution_count": 3,
      "outputs": [
        {
          "output_type": "stream",
          "name": "stdout",
          "text": [
            "Input a list of temperatures in degrees Celsius! Reminder to separate each temperature with a comma. 123, 100, 88, -273, 95, 0, 25, 50, 69.420, 420.69, 112, 334\n",
            "253.4\n",
            "212.0\n",
            "190.4\n",
            "-459.4\n",
            "203.0\n",
            "32.0\n",
            "77.0\n",
            "122.0\n",
            "156.956\n",
            "789.242\n",
            "233.6\n",
            "633.2\n"
          ]
        }
      ]
    },
    {
      "cell_type": "markdown",
      "source": [
        "9. **Name Initials:** For a list of full names, print the initials of each name.\n"
      ],
      "metadata": {
        "id": "MhodCC6HKkLh"
      }
    },
    {
      "cell_type": "code",
      "source": [
        "user_input=input(\"Please input a list of names. Separate each name with a comma. \")\n",
        "names=user_input.split(',')\n",
        "for i in names:\n",
        "  words=i.split()\n",
        "  initials= ''.join(j[0].upper() for j in words)\n",
        "  print(initials)"
      ],
      "metadata": {
        "id": "HQ5_rY3-Klnc",
        "colab": {
          "base_uri": "https://localhost:8080/"
        },
        "outputId": "95c8d9a2-1c8e-494b-c2b0-0e48a0e898e0"
      },
      "execution_count": 2,
      "outputs": [
        {
          "output_type": "stream",
          "name": "stdout",
          "text": [
            "Please input a list of names. Separate each name with a comma. John Cena, Lebron James, Walter White, Stony Tark, Gus Fring, Ivan Perez, Eren Yeager\n",
            "JC\n",
            "LJ\n",
            "WW\n",
            "ST\n",
            "GF\n",
            "IP\n",
            "EY\n",
            "Please input a list of names. Separate each name with a comma. No\n",
            "N\n"
          ]
        }
      ]
    },
    {
      "cell_type": "markdown",
      "source": [
        "10. **Range Sum:** Calculate the sum of numbers from 1 to 100 using a `for` loop."
      ],
      "metadata": {
        "id": "Sbmpt_V3Kpd_"
      }
    },
    {
      "cell_type": "code",
      "source": [
        "count=0\n",
        "for i in range (1,101):\n",
        "  count +=i\n",
        "print (count)"
      ],
      "metadata": {
        "id": "EQ1De9pKKrrz",
        "colab": {
          "base_uri": "https://localhost:8080/"
        },
        "outputId": "d8327fb5-21a5-4746-ac8c-b56fe12e961e"
      },
      "execution_count": null,
      "outputs": [
        {
          "output_type": "stream",
          "name": "stdout",
          "text": [
            "5050\n"
          ]
        }
      ]
    }
  ]
}
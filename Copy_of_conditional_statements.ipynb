{
  "nbformat": 4,
  "nbformat_minor": 0,
  "metadata": {
    "colab": {
      "provenance": []
    },
    "kernelspec": {
      "name": "python3",
      "display_name": "Python 3"
    },
    "language_info": {
      "name": "python"
    }
  },
  "cells": [
    {
      "cell_type": "markdown",
      "source": [
        "### **Introduction to Conditional Statements**\n",
        "\n",
        "Conditional statements allow a program to evaluate specific conditions and make decisions based on those conditions. They introduce the concept of branching, where a program can follow different paths of execution based on certain criteria.\n",
        "\n",
        "---\n",
        "\n",
        "### **Understanding if, elif, and else Statements**\n",
        "\n",
        "**1. `if` Statement:**\n",
        "- The most basic type of conditional statement.\n",
        "- Evaluates a condition, and if it's `True`, the code inside the `if` block is executed.\n",
        "\n",
        "  **Example:**\n",
        "  ```python\n",
        "  age = 20\n",
        "  if age >= 18:\n",
        "      print(\"You are an adult!\")\n",
        "  ```\n",
        "\n",
        "**2. `elif` Statement:**\n",
        "- Short for \"else if\".\n",
        "- Used to check multiple conditions after the initial `if` condition.\n",
        "- The `elif` block is executed if its condition is `True`.\n",
        "\n",
        "  **Example:**\n",
        "  ```python\n",
        "  score = 85\n",
        "  if score >= 90:\n",
        "      grade = \"A\"\n",
        "  elif score >= 80:\n",
        "      grade = \"B\"\n",
        "  ```\n",
        "\n",
        "**3. `else` Statement:**\n",
        "- Catches anything which isn't caught by the preceding conditions.\n",
        "- Does not have a condition attached to it.\n",
        "\n",
        "  **Example:**\n",
        "  ```python\n",
        "  age = 15\n",
        "  if age >= 18:\n",
        "      print(\"You are an adult!\")\n",
        "  else:\n",
        "      print(\"You are a minor!\")\n",
        "  ```\n",
        "\n",
        "---\n",
        "\n",
        "### **Writing Conditions Using Comparison Operators**\n",
        "\n",
        "**1. `==`:** Checks if two values are equal.\n",
        "  - **Example:** `x == y`\n",
        "\n",
        "**2. `!=`:** Checks if two values are not equal.\n",
        "  - **Example:** `x != y`\n",
        "\n",
        "**3. `>`:** Checks if the value on the left is greater than the one on the right.\n",
        "  - **Example:** `x > y`\n",
        "\n",
        "**4. `<`:** Checks if the value on the left is less than the one on the right.\n",
        "  - **Example:** `x < y`\n",
        "\n",
        "**5. `>=`:** Checks if the value on the left is greater than or equal to the one on the right.\n",
        "  - **Example:** `x >= y`\n",
        "\n",
        "**6. `<=`:** Checks if the value on the left is less than or equal to the one on the right.\n",
        "  - **Example:** `x <= y`\n",
        "\n",
        "---\n"
      ],
      "metadata": {
        "id": "CjxdWcqxPhy0"
      }
    },
    {
      "cell_type": "markdown",
      "source": [
        "\n",
        "### **Practice Exercises:**\n",
        "\n",
        "1. **Weekday or Weekend:**\n",
        "    - Ask the user to input a day of the week (e.g., Monday, Tuesday, etc.).\n",
        "    - Inform them if the day is a weekday or a weekend.\n",
        "\n"
      ],
      "metadata": {
        "id": "Jim4Rsi7Pn0G"
      }
    },
    {
      "cell_type": "code",
      "source": [
        "x=input(\"Day of the week: \")\n",
        "if x.lower() in [\"saturday\", \"sunday\"]:\n",
        "  print (\"It's a weekend.\")\n",
        "elif x.lower() in [\"monday\", \"tuesday\", \"wednesday\", \"thursday\", \"friday\"]:\n",
        "  print (\"It's a weekday.\")\n",
        "else:\n",
        "  print (\"Kid, that's not a day of the week.\")"
      ],
      "metadata": {
        "id": "TkrdpDJXRKeJ",
        "colab": {
          "base_uri": "https://localhost:8080/"
        },
        "outputId": "44b1e97a-55bf-4b2d-b686-eee3de97677c"
      },
      "execution_count": null,
      "outputs": [
        {
          "output_type": "stream",
          "name": "stdout",
          "text": [
            "Day of the week: monday\n",
            "It's a weekday.\n"
          ]
        }
      ]
    },
    {
      "cell_type": "markdown",
      "source": [
        "2. **Password Strength Checker:**\n",
        "    - Ask the user to input a password.\n",
        "    - Check if the password has at least 8 characters, starts with an uppercase letter, and ends with a number. Provide feedback on its strength.\n"
      ],
      "metadata": {
        "id": "1JPiLpsURKzz"
      }
    },
    {
      "cell_type": "code",
      "source": [
        "password=input(\"Enter password: \")\n",
        "if len(password)>=8:\n",
        "  print(\"Sufficient character count\")\n",
        "else:\n",
        "  print(\"Sorry, your password is not strong enough.\")\n",
        "if password[0].isupper():\n",
        "  print(\"Good, it's uppercase.\")\n",
        "else:\n",
        "  print(\"Ur password sucky.\")\n",
        "if password[-1].isdigit():\n",
        "  print(\"Good, it ends with a number.\")\n",
        "else:\n",
        "  print(\"It doesn't end with a number.\")"
      ],
      "metadata": {
        "id": "sHB4UhrHRMy5",
        "colab": {
          "base_uri": "https://localhost:8080/"
        },
        "outputId": "90000dfb-59ba-484c-b7d7-725a9fe17a01"
      },
      "execution_count": 18,
      "outputs": [
        {
          "output_type": "stream",
          "name": "stdout",
          "text": [
            "Enter password: 123450\n",
            "Sorry, your password is not strong enough.\n",
            "Ur password sucky.\n",
            "Good, it ends with a number.\n"
          ]
        }
      ]
    },
    {
      "cell_type": "markdown",
      "source": [
        "3. **Movie Ticket Pricing:**\n",
        "    - Movie theaters often have different pricing depending on age groups.\n",
        "    - Children under 12: $5, Teens (12-17): $7, Adults (18-59): $10, Seniors (60+): $6.\n",
        "    - Ask the user for their age and tell them the cost of a movie ticket.\n"
      ],
      "metadata": {
        "id": "QABbfxrVRNfo"
      }
    },
    {
      "cell_type": "code",
      "source": [
        "age=int(input(\"Age: \"))\n",
        "if age<12:\n",
        "  print(\"The cost of a movie ticket is $5.\")\n",
        "elif 12<=age<=17:\n",
        "  print(\"The cost of a movie ticket is $7.\")\n",
        "elif 18<=age<=59:\n",
        "  print(\"The cost of a movie ticket is $10.\")\n",
        "else:\n",
        "  print(\"The cost of a movie ticket is $6.\")"
      ],
      "metadata": {
        "id": "-i4B1AYyRPGp",
        "colab": {
          "base_uri": "https://localhost:8080/"
        },
        "outputId": "eb2b7dab-6ac6-4a34-9be8-5a2fcc836566"
      },
      "execution_count": null,
      "outputs": [
        {
          "output_type": "stream",
          "name": "stdout",
          "text": [
            "Age: 1\n",
            "The cost of a movie ticket is $5.\n"
          ]
        }
      ]
    },
    {
      "cell_type": "markdown",
      "source": [
        "4. **Tax Calculator:**\n",
        "    - Depending on the amount of income, people are taxed at different rates.\n",
        "    - Income up to $10,000: No tax, Income $10,001-$50,000: 10% tax, Income $50,001 and above: 20% tax.\n",
        "    - Ask the user for their income and calculate the tax they owe.\n",
        "\n"
      ],
      "metadata": {
        "id": "4RMhCDsXRPTO"
      }
    },
    {
      "cell_type": "code",
      "source": [
        "income=int(input(\"Income: \"))\n",
        "income01=format(income*0.1, \".6g\")\n",
        "income02=format(income*0.2, \".6g\")\n",
        "if income<=10000:\n",
        "  print(\"No tax\")\n",
        "elif 10001<=income<=50000:\n",
        "  print(\"Tax: \", income01)\n",
        "elif income>=50001:\n",
        "  print(\"Tax: \", income02)"
      ],
      "metadata": {
        "id": "ijEDRr8FRSm0",
        "colab": {
          "base_uri": "https://localhost:8080/"
        },
        "outputId": "dbabe987-6642-4123-bdba-4fab744c51b9"
      },
      "execution_count": 20,
      "outputs": [
        {
          "output_type": "stream",
          "name": "stdout",
          "text": [
            "Income: 12334\n",
            "Tax:  1233.4\n"
          ]
        }
      ]
    },
    {
      "cell_type": "markdown",
      "source": [
        "5. **Discount Eligibility:**\n",
        "    - A store offers a discount to students and senior citizens.\n",
        "    - Ask the user if they are a student or a senior citizen (yes or no for each). If they answer \"yes\" to either, inform them they are eligible for a discount.\n",
        "\n"
      ],
      "metadata": {
        "id": "qonCcp_PRTDL"
      }
    },
    {
      "cell_type": "code",
      "source": [
        "def check_eligibility(word):    #Making a function in order to reduce lines of code (yes I know how to do it the normal way)\n",
        "  if word.lower()==\"yes\":\n",
        "    print(\"You are eligible.\")\n",
        "  else:\n",
        "    print(\"Sorry, you are not eligible.\")\n",
        "\n",
        "x=input(\"Are you a student? \")\n",
        "y=input(\"Are you a senior citizen? \")\n",
        "\n",
        "check_eligibility(x)\n",
        "check_eligibility(y)\n"
      ],
      "metadata": {
        "id": "5YBnUfs-RUku",
        "colab": {
          "base_uri": "https://localhost:8080/"
        },
        "outputId": "d28ee808-8169-4efd-baf2-5692efe7d3d5"
      },
      "execution_count": 12,
      "outputs": [
        {
          "output_type": "stream",
          "name": "stdout",
          "text": [
            "Are you a student? no\n",
            "Are you a senior citizen? no\n",
            "Sorry, you are not eligible.\n",
            "Sorry, you are not eligible.\n"
          ]
        }
      ]
    },
    {
      "cell_type": "markdown",
      "source": [
        "6. **Shipping Cost Calculator:**\n",
        "    - Shipping costs vary based on the weight of a package.\n",
        "    - Weight up to 1kg: $5, Weight 1.1kg-5kg: $10, Weight above 5kg: $20.\n",
        "    - Ask the user for the weight of their package and tell them the shipping cost.\n",
        "\n"
      ],
      "metadata": {
        "id": "vSf3pJOFRVGk"
      }
    },
    {
      "cell_type": "code",
      "source": [
        "m=float(input(\"Weight of package: \"))\n",
        "if m<=1:\n",
        "  print(\"Shipping cost: $5\")\n",
        "elif 1.1<=m<=5:\n",
        "  print(\"Shipping cost: $10\")\n",
        "else:\n",
        "  print(\"Shipping cost: $20\")"
      ],
      "metadata": {
        "id": "1roU2zvFRWbR",
        "colab": {
          "base_uri": "https://localhost:8080/"
        },
        "outputId": "ce54a39a-dccd-4c5a-ac31-5aff81a06358"
      },
      "execution_count": 16,
      "outputs": [
        {
          "output_type": "stream",
          "name": "stdout",
          "text": [
            "Weight of package: 112\n",
            "Shipping cost: $20\n"
          ]
        }
      ]
    },
    {
      "cell_type": "markdown",
      "source": [
        "7. **Drink Selector:**\n",
        "    - Ask the user for their age.\n",
        "    - If they are under 18, suggest a non-alcoholic drink (like juice or soda). If they are 18 and above, suggest an alcoholic beverage (like wine or beer)."
      ],
      "metadata": {
        "id": "WXtyKwyYRWzS"
      }
    },
    {
      "cell_type": "code",
      "source": [
        "age=int(input(\"What is your age? \"))\n",
        "if age<18:\n",
        "  print(\"You're too young to drink alcohol. Try something like juice or soda instead.\")\n",
        "else:\n",
        "  print(\"You can drink alcohol. Why not try wine or beer?\")"
      ],
      "metadata": {
        "id": "iG4YUGa5RXeM",
        "colab": {
          "base_uri": "https://localhost:8080/"
        },
        "outputId": "0e70c800-c0e9-4a1a-c90c-c37de2278f50"
      },
      "execution_count": 17,
      "outputs": [
        {
          "output_type": "stream",
          "name": "stdout",
          "text": [
            "What is your age? 12\n",
            "You're too young to drink alcohol. Try something like juice or soda instead.\n"
          ]
        }
      ]
    }
  ]
}
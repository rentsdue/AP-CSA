{
  "nbformat": 4,
  "nbformat_minor": 0,
  "metadata": {
    "colab": {
      "provenance": []
    },
    "kernelspec": {
      "name": "python3",
      "display_name": "Python 3"
    },
    "language_info": {
      "name": "python"
    }
  },
  "cells": [
    {
      "cell_type": "markdown",
      "source": [
        "---\n",
        "\n",
        "### **Type Conversion & User Input**\n",
        "\n",
        "---\n",
        "\n",
        "**I. Introduction to Type Conversion**\n",
        "\n",
        "- **Concept of Data Types and Compatibility:**\n",
        "    - Sometimes, different data types can't directly interact or work together.\n",
        "    - For instance, you can't directly add a text representation of a number (string) to an actual number (integer or float).\n",
        "\n",
        "- **Implicit vs. Explicit Type Conversion:**\n",
        "    - **Implicit:** Done automatically by the compiler/interpreter.\n",
        "    - **Explicit:** Done intentionally by the programmer.\n",
        "\n",
        "---\n",
        "\n",
        "**II. Implicit Type Conversion**\n",
        "\n",
        "- **Definition:**\n",
        "    - When the Python interpreter automatically changes one data type to another without the programmer's intervention.\n",
        "\n",
        "- **Examples:**\n",
        "    - Combining an integer with a float results in a float.\n",
        "    ```python\n",
        "    result = 3 + 4.5  # result is 7.5, a float\n",
        "    ```\n",
        "    - Combining an integer with a string can lead to errors.\n",
        "    \n",
        "- **Potential Pitfalls:**\n",
        "    - **Loss of Data:** Converting from float to integer discards the decimal part.\n",
        "    - **Unexpected Results:** Implicit conversion might not always yield the expected outcome.\n",
        "    - **Type Errors:** Some implicit conversions aren't allowed and can cause errors.\n",
        "\n",
        "---\n",
        "\n",
        "**III. Explicit Type Conversion**\n",
        "\n",
        "- **Definition:**\n",
        "    - When the programmer intentionally converts one data type to another using built-in functions.\n",
        "\n",
        "- **Conversion Functions:**\n",
        "    - `int()`: Converts a value to an integer.\n",
        "    - `float()`: Converts a value to a floating-point number.\n",
        "    - `str()`: Converts a value to a string.\n",
        "\n",
        "- **Demonstrations:**\n",
        "    - Convert a float to an integer:\n",
        "    ```python\n",
        "    integer_value = int(7.8)  # Result is 7\n",
        "    ```\n",
        "    - Convert an integer to a string:\n",
        "    ```python\n",
        "    string_value = str(25)  # Result is \"25\"\n",
        "    ```\n",
        "\n",
        "---\n",
        "\n",
        "**IV. Input from Users using the `input()` function**\n",
        "\n",
        "- **Introduction to `input()`:**\n",
        "    - A built-in Python function to take user input from the console.\n",
        "    \n",
        "- **Characteristics of `input()`:**\n",
        "    - The data obtained using `input()` is always a string. To use it as other data types, you need to convert it explicitly.\n",
        "\n",
        "---\n"
      ],
      "metadata": {
        "id": "CUpoFbofG8dq"
      }
    },
    {
      "cell_type": "markdown",
      "source": [
        "**1. Word Repetition Game**\n",
        "- Ask the user for a word and a number.\n",
        "- Convert the number to an integer and repeat the word that many times.\n",
        "- Example:\n",
        "    - Input: Word: \"Hello\", Number: \"3\"\n",
        "    - Output: \"HelloHelloHello\"\n",
        "\n",
        "---"
      ],
      "metadata": {
        "id": "wxkjUHtsH2hr"
      }
    },
    {
      "cell_type": "code",
      "source": [
        "x=input(\"Insert word: \")\n",
        "y=int(input(\"How many times do you want to repeat the word? \"))\n",
        "print(x*y)\n",
        "\n"
      ],
      "metadata": {
        "id": "hUtSMYsVH-eY",
        "colab": {
          "base_uri": "https://localhost:8080/"
        },
        "outputId": "e659d803-c377-4df7-d9f3-e8c9332437de"
      },
      "execution_count": null,
      "outputs": [
        {
          "output_type": "stream",
          "name": "stdout",
          "text": [
            "Insert word: Hello\n",
            "How many times do you want to repeat the word? 3\n",
            "HelloHelloHello\n"
          ]
        }
      ]
    },
    {
      "cell_type": "markdown",
      "source": [
        "**2. Money Calculator**\n",
        "- Prompt the user for the number of coins they have (like pennies, nickels, dimes, and quarters).\n",
        "- Convert the input to integers.\n",
        "- Calculate the total amount in dollars and cents.\n",
        "\n",
        "---"
      ],
      "metadata": {
        "id": "eUlwvePkH_-D"
      }
    },
    {
      "cell_type": "code",
      "source": [
        "p=int(input(\"Number of pennies: \"))\n",
        "n=int(input(\"Number of nickels: \"))\n",
        "d=int(input(\"Number of dimes: \"))\n",
        "q=int(input(\"Number of quarters: \"))\n",
        "t=p+5*n+10*d+25*q\n",
        "dollars=t//100\n",
        "cents=t%100\n",
        "print(d2ollars, \"dollars and\", cents, \"cents\")\n",
        "\n",
        "\n"
      ],
      "metadata": {
        "id": "A43ujndhIGo_",
        "colab": {
          "base_uri": "https://localhost:8080/"
        },
        "outputId": "87fd23de-56f5-4a98-f73c-e3975c9465cb"
      },
      "execution_count": null,
      "outputs": [
        {
          "output_type": "stream",
          "name": "stdout",
          "text": [
            "Number of pennies: 11\n",
            "Number of nickels: 2\n",
            "Number of dimes: 3\n",
            "Number of quarters: 4\n",
            "1 dollars and 51 cents\n"
          ]
        }
      ]
    },
    {
      "cell_type": "markdown",
      "source": [
        "**3. Movie Time**\n",
        "- Ask the user how long a movie is in minutes (e.g., \"120\").\n",
        "- Convert this to hours and minutes and display it.\n",
        "- Example:\n",
        "    - Input: \"140\"\n",
        "    - Output: \"The movie is 2 hours and 20 minutes long.\"\n",
        "\n",
        "---"
      ],
      "metadata": {
        "id": "1cSXQp50ILlb"
      }
    },
    {
      "cell_type": "code",
      "source": [
        "name=input(\"What is the name of your movie? \")\n",
        "time=int(input(\"How long is it in minutes? \"))\n",
        "time_h=time//60\n",
        "time_m=time%60\n",
        "print(name, \"is\", time_h, \"hours and\", time_m, \"minutes long\")"
      ],
      "metadata": {
        "id": "6GCnZ9g7IQnZ",
        "colab": {
          "base_uri": "https://localhost:8080/"
        },
        "outputId": "b42bca68-0f0e-429a-f0bc-e885e885b2a3"
      },
      "execution_count": null,
      "outputs": [
        {
          "output_type": "stream",
          "name": "stdout",
          "text": [
            "What is the name of your movie? Morbius\n",
            "How long is it in minutes? 90\n",
            "Morbius is 1 hours and 30 minutes long\n"
          ]
        }
      ]
    },
    {
      "cell_type": "markdown",
      "source": [
        "**4. Age in Days**\n",
        "- Have the user input their age in years.\n",
        "- Convert the age to days (ignoring leap years) and display the result.\n",
        "- Example:\n",
        "    - Input: \"25\"\n",
        "    - Output: \"You are approximately 9125 days old.\"\n",
        "\n",
        "---\n"
      ],
      "metadata": {
        "id": "DJD0fXVUISLH"
      }
    },
    {
      "cell_type": "code",
      "source": [
        "age=int(input(\"How old are you in years? \"))\n",
        "print(\"You are approximately\", age*365, \"days old\")"
      ],
      "metadata": {
        "id": "L3TeR-x-IXj_",
        "colab": {
          "base_uri": "https://localhost:8080/"
        },
        "outputId": "af26120c-5f01-456f-b6cc-78132de31db1"
      },
      "execution_count": null,
      "outputs": [
        {
          "output_type": "stream",
          "name": "stdout",
          "text": [
            "How old are you in years? 17\n",
            "You are approximately 6205 days old\n"
          ]
        }
      ]
    },
    {
      "cell_type": "markdown",
      "source": [
        "**5. String Calculator**\n",
        "- Ask the user for two numbers but as strings (e.g., \"12\" and \"15\").\n",
        "- Convert these strings to integers and perform basic arithmetic operations on them (addition, subtraction, multiplication).\n",
        "\n",
        "---"
      ],
      "metadata": {
        "id": "sEcfkwlfIZJv"
      }
    },
    {
      "cell_type": "code",
      "source": [
        "x=input(\"Number pls: \")\n",
        "y=input(\"Number pls: \")\n",
        "x=int(x)\n",
        "y=int(y)\n",
        "print(x+y)\n",
        "print(x*y)\n",
        "print(x/y)\n",
        "print(x-y)\n",
        "print(x//y)\n",
        "print(x%y)"
      ],
      "metadata": {
        "id": "kjKUS4-gIdrC",
        "colab": {
          "base_uri": "https://localhost:8080/"
        },
        "outputId": "42935599-10f5-4d9f-e4c0-7b63cfc29bfa"
      },
      "execution_count": null,
      "outputs": [
        {
          "output_type": "stream",
          "name": "stdout",
          "text": [
            "Number pls: 11\n",
            "Number pls: 12\n",
            "23\n",
            "132\n",
            "0.9166666666666666\n",
            "-1\n",
            "0\n",
            "11\n"
          ]
        }
      ]
    },
    {
      "cell_type": "markdown",
      "source": [
        "**6. Weight Converter**\n",
        "- Prompt the user for their weight in pounds.\n",
        "- Convert the weight to kilograms (using the conversion 1 pound = 0.453592 kilograms) and display the result.\n",
        "\n",
        "---"
      ],
      "metadata": {
        "id": "XU-uz7_gIfar"
      }
    },
    {
      "cell_type": "code",
      "source": [
        "weight=float(input(\"Weight in pounds: \"))\n",
        "kg=0.453592*weight\n",
        "kg_adjust=format(kg, \".3g\")\n",
        "print(kg_adjust, \"kilograms\")"
      ],
      "metadata": {
        "id": "uM2885UFIi4-",
        "colab": {
          "base_uri": "https://localhost:8080/"
        },
        "outputId": "d5b7de95-edd7-4702-d3d6-594ea4a9d13a"
      },
      "execution_count": null,
      "outputs": [
        {
          "output_type": "stream",
          "name": "stdout",
          "text": [
            "Weight in pounds: 1111\n",
            "504 kilograms\n"
          ]
        }
      ]
    },
    {
      "cell_type": "markdown",
      "source": [
        "**7. Temperature Alert**\n",
        "- Ask the user for the temperature in Fahrenheit.\n",
        "- Convert it to Celsius.\n",
        "- If the temperature in Celsius is below 0, print an alert that it's freezing!\n",
        "\n",
        "---"
      ],
      "metadata": {
        "id": "Vqf3KRegIkwG"
      }
    },
    {
      "cell_type": "code",
      "source": [
        "temp=float(input(\"Temperature in Fahrenheit: \"))\n",
        "c=(temp-32)*5/9\n",
        "c_adjust=format(c, \".3g\")\n",
        "print(c_adjust)\n",
        "if c<0:\n",
        "  print(\"It's freezing!\")"
      ],
      "metadata": {
        "id": "Bvn01u27InZD",
        "colab": {
          "base_uri": "https://localhost:8080/"
        },
        "outputId": "4d2b51c2-1a02-4cc9-a13b-2ea5453755c8"
      },
      "execution_count": null,
      "outputs": [
        {
          "output_type": "stream",
          "name": "stdout",
          "text": [
            "Temperature in Fahrenheit: 451\n",
            "233\n"
          ]
        }
      ]
    },
    {
      "cell_type": "markdown",
      "source": [
        "**8. User Feedback Rating**\n",
        "- Ask the user to rate a product on a scale of 1-10, but they should input it as a word (e.g., \"seven\").\n",
        "- Convert the word to its corresponding number. (This requires a bit more logic, using a dictionary or if-else statements.)\n",
        "- Display a message based on the number (e.g., for ratings 8-10, display \"Thank you! We're glad you loved it!\").\n",
        "\n",
        "---"
      ],
      "metadata": {
        "id": "HtgxB-B0IpTW"
      }
    },
    {
      "cell_type": "code",
      "source": [
        "word=input(\"Rate a product on a scale of one to ten: \")\n",
        "if word.lower() in [\"eight\", \"nine\", \"ten\"]:\n",
        "  print(\"Thank you! We're glad you loved it!\")\n",
        "elif word.lower() in [\"five\", \"six\", \"seven\"]:\n",
        "  print(\"I guess we're kinda mid\")\n",
        "elif word.lower () in [\"one\", \"two\", \"three\", \"four\"]:\n",
        "  print(\"Sorry.\")\n",
        "else:\n",
        "  print(\"We cannot understand your response.\")\n"
      ],
      "metadata": {
        "id": "_THFynUpIqTw",
        "colab": {
          "base_uri": "https://localhost:8080/"
        },
        "outputId": "ba93dd32-19c0-4b06-8e59-bbc19bbfb41e"
      },
      "execution_count": null,
      "outputs": [
        {
          "output_type": "stream",
          "name": "stdout",
          "text": [
            "Rate a product on a scale of one to ten: five\n",
            "I guess we're kinda mid\n"
          ]
        }
      ]
    },
    {
      "cell_type": "markdown",
      "source": [
        "In Python, both the comma (`,`) and the plus (`+`) sign can be used with the `print` function, but they serve different purposes and have different behaviors. Here are the main differences:\n",
        "\n",
        "1. **Type Compatibility**:\n",
        "   - **Comma (`,`)**: You can use the comma to concatenate items of different types without explicitly converting them. The `print` function will internally convert the arguments to strings.\n",
        "   - **Plus (`+`)**: When using the plus sign, the items being concatenated must be of the same type. If you're trying to concatenate a string with a number, for instance, you'll need to explicitly convert the number to a string using `str()`.\n",
        "\n",
        "2. **Output Spacing**:\n",
        "   - **Comma (`,`)**: When using a comma, the `print` function will insert a space between the items.\n",
        "   - **Plus (`+`)**: The plus sign will concatenate the items directly without any space in between.\n",
        "\n",
        "3. **Flexibility**:\n",
        "   - **Comma (`,`)**: You can print multiple items of different types easily, and also include additional parameters like `end` and `sep`.\n",
        "   - **Plus (`+`)**: It's primarily for string concatenation, and you'd have to manage type conversions yourself.\n",
        "\n",
        "Here's a demonstration of the differences:\n",
        "\n",
        "```python\n",
        "x = 5\n",
        "y = \"Hello\"\n",
        "\n",
        "# Using comma\n",
        "print(y, x)\n",
        "\n",
        "# Using plus (requires explicit type conversion for non-string types)\n",
        "print(y + \" \" + str(x))\n",
        "```\n",
        "\n",
        "The output for the above code would be:\n",
        "\n",
        "```\n",
        "Hello 5\n",
        "Hello 5\n",
        "```\n",
        "\n",
        "Let's run a demonstration to see the differences in action.\n",
        "\n",
        "As demonstrated:\n",
        "\n",
        "Using the comma (`,`):\n",
        "```\n",
        "Output: Hello 5\n",
        "```\n",
        "\n",
        "Using the plus (`+`):\n",
        "```\n",
        "Output: Hello 5\n",
        "```\n",
        "\n",
        "In both cases, the outputs are the same in this example. However, the distinction comes in how they handle different types and spacing, as previously explained. Using the comma is generally more forgiving and flexible for printing multiple items, while the plus sign requires more care regarding type compatibility and formatting."
      ],
      "metadata": {
        "id": "CPVKyuY2KKjd"
      }
    }
  ]
}